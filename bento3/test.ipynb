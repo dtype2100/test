{
 "cells": [
  {
   "cell_type": "code",
   "execution_count": 5,
   "metadata": {},
   "outputs": [
    {
     "name": "stderr",
     "output_type": "stream",
     "text": [
      "2023/11/15 23:50:13 WARNING mlflow.sklearn: Model was missing function: predict. Not logging python_function flavor!\n"
     ]
    }
   ],
   "source": [
    "import mlflow, bentoml\n",
    "mlflow.sklearn.save_model(5, \"./my_model\")"
   ]
  },
  {
   "cell_type": "code",
   "execution_count": 6,
   "metadata": {},
   "outputs": [
    {
     "name": "stderr",
     "output_type": "stream",
     "text": [
      "Downloading artifacts: 100%|██████████| 5/5 [00:00<00:00, 624.95it/s]\n"
     ]
    },
    {
     "ename": "BentoMLException",
     "evalue": "MLflow model \"./my_model\" does not support the required python_function flavor",
     "output_type": "error",
     "traceback": [
      "\u001b[1;31m---------------------------------------------------------------------------\u001b[0m",
      "\u001b[1;31mBentoMLException\u001b[0m                          Traceback (most recent call last)",
      "\u001b[1;32mc:\\Users\\jw160\\OneDrive\\test\\bento3\\test.ipynb Cell 2\u001b[0m line \u001b[0;36m1\n\u001b[1;32m----> <a href='vscode-notebook-cell:/c%3A/Users/jw160/OneDrive/test/bento3/test.ipynb#W1sZmlsZQ%3D%3D?line=0'>1</a>\u001b[0m bentoml\u001b[39m.\u001b[39;49mmlflow\u001b[39m.\u001b[39;49mimport_model(\u001b[39m\"\u001b[39;49m\u001b[39mmy_sklearn_model\u001b[39;49m\u001b[39m\"\u001b[39;49m, model_uri\u001b[39m=\u001b[39;49m\u001b[39m\"\u001b[39;49m\u001b[39m./my_model\u001b[39;49m\u001b[39m\"\u001b[39;49m)\n",
      "File \u001b[1;32mc:\\Users\\jw160\\OneDrive\\test\\bento2\\.venv_bento2\\Lib\\site-packages\\bentoml\\_internal\\frameworks\\mlflow.py:226\u001b[0m, in \u001b[0;36mimport_model\u001b[1;34m(name, model_uri, signatures, labels, custom_objects, external_modules, metadata)\u001b[0m\n\u001b[0;32m    224\u001b[0m model_meta \u001b[39m=\u001b[39m MLflowModel\u001b[39m.\u001b[39mload(mlflow_model_file)\n\u001b[0;32m    225\u001b[0m \u001b[39mif\u001b[39;00m PYFUNC_FLAVOR_NAME \u001b[39mnot\u001b[39;00m \u001b[39min\u001b[39;00m model_meta\u001b[39m.\u001b[39mflavors:\n\u001b[1;32m--> 226\u001b[0m     \u001b[39mraise\u001b[39;00m BentoMLException(\n\u001b[0;32m    227\u001b[0m         \u001b[39mf\u001b[39m\u001b[39m'\u001b[39m\u001b[39mMLflow model \u001b[39m\u001b[39m\"\u001b[39m\u001b[39m{\u001b[39;00mmodel_uri\u001b[39m}\u001b[39;00m\u001b[39m\"\u001b[39m\u001b[39m does not support the required python_function flavor\u001b[39m\u001b[39m'\u001b[39m\n\u001b[0;32m    228\u001b[0m     )\n\u001b[0;32m    230\u001b[0m \u001b[39mreturn\u001b[39;00m bento_model\n",
      "\u001b[1;31mBentoMLException\u001b[0m: MLflow model \"./my_model\" does not support the required python_function flavor"
     ]
    }
   ],
   "source": [
    "bentoml.mlflow.import_model(\"my_sklearn_model\", model_uri=\"./my_model\")"
   ]
  },
  {
   "cell_type": "code",
   "execution_count": null,
   "metadata": {},
   "outputs": [],
   "source": []
  }
 ],
 "metadata": {
  "kernelspec": {
   "display_name": ".venv_bento2",
   "language": "python",
   "name": "python3"
  },
  "language_info": {
   "codemirror_mode": {
    "name": "ipython",
    "version": 3
   },
   "file_extension": ".py",
   "mimetype": "text/x-python",
   "name": "python",
   "nbconvert_exporter": "python",
   "pygments_lexer": "ipython3",
   "version": "3.11.4"
  }
 },
 "nbformat": 4,
 "nbformat_minor": 2
}
