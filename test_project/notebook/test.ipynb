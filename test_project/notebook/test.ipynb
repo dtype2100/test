{
 "cells": [
  {
   "cell_type": "code",
   "execution_count": 1,
   "metadata": {},
   "outputs": [
    {
     "name": "stderr",
     "output_type": "stream",
     "text": [
      "c:\\Users\\jw160\\OneDrive\\test\\bento2\\.venv_bento2\\Lib\\site-packages\\pydantic\\_internal\\_fields.py:128: UserWarning: Field \"model_server_url\" has conflict with protected namespace \"model_\".\n",
      "\n",
      "You may be able to resolve this warning by setting `model_config['protected_namespaces'] = ()`.\n",
      "  warnings.warn(\n",
      "c:\\Users\\jw160\\OneDrive\\test\\bento2\\.venv_bento2\\Lib\\site-packages\\pydantic\\_internal\\_config.py:317: UserWarning: Valid config keys have changed in V2:\n",
      "* 'schema_extra' has been renamed to 'json_schema_extra'\n",
      "  warnings.warn(message, UserWarning)\n",
      "c:\\Users\\jw160\\OneDrive\\test\\bento2\\.venv_bento2\\Lib\\site-packages\\tqdm\\auto.py:21: TqdmWarning: IProgress not found. Please update jupyter and ipywidgets. See https://ipywidgets.readthedocs.io/en/stable/user_install.html\n",
      "  from .autonotebook import tqdm as notebook_tqdm\n"
     ]
    }
   ],
   "source": [
    "import bentoml, mlflow, optuna, uuid\n",
    "from sklearn.model_selection import train_test_split, cross_validate\n",
    "from sklearn.ensemble import AdaBoostClassifier\n",
    "from sklearn.metrics import accuracy_score, precision_score, recall_score, f1_score\n",
    "from sklearn.datasets import load_iris\n",
    "data = load_iris()\n",
    "X = data.data\n",
    "y = data.target\n",
    "UNIQUE_PREFIX = str(uuid.uuid4())[:8]\n",
    "def objective(trial, X, y):\n",
    "    param = {\n",
    "        'n_estimators': trial.suggest_int('n_estimators', 10, 100),\n",
    "        'learning_rate': trial.suggest_float('learning_rate', 0.01, 1.0),\n",
    "    }\n",
    "    mlflow.log_params(param)\n",
    "    model = AdaBoostClassifier(**param)\n",
    "    scores = cross_validate(model, X, y, cv=5, n_jobs=-1, return_train_score=True, scoring=['f1_weighted', 'accuracy', 'recall', 'precision'])\n",
    "\n",
    "    # mlflow.log_metrics('scores', scores)\n",
    "    # mlflow.log_metric('train_accuracy', scores['train_accuracy'].mean())\n",
    "\n",
    "    # mlflow.log_metric('test_accuracy', scores['test_accuracy'].mean())\n",
    "    # mlflow.log_metric('test_recall', scores['test_recall'].mean())\n",
    "    # mlflow.log_metric('test_precision', scores['test_precision'].mean())\n",
    "    # mlflow.log_metric('test_f1_weighted', scores['test_f1_weighted'].mean())\n",
    "    \n",
    "    train_f1_score = scores['train_f1_weighted'].mean()\n",
    "    test_f1_score = scores['test_f1_weighted'].mean()\n",
    "\n",
    "    train_accuracy_score = scores['train_accuracy'].mean()\n",
    "    test_accuracy_score = scores['test_accuracy'].mean()\n",
    "\n",
    "    train_recall_score = scores['train_recall'].mean()\n",
    "    test_recall_score = scores['test_recall'].mean()\n",
    "\n",
    "    train_precision_score = scores['train_precision'].mean()\n",
    "    test_precision_score = scores['test_precision'].mean()\n",
    "\n",
    "    metrics = {'train_f1_score': train_f1_score, 'test_f1_score': test_f1_score,\n",
    "            'train_accuracy_score': train_accuracy_score, 'test_accuracy_score': test_accuracy_score,\n",
    "            'train_recall_score': train_recall_score, 'test_recall_score': test_recall_score,\n",
    "            'train_precision_score': train_precision_score, 'test_precision_score': test_precision_score}\n",
    "    mlflow.log_metrics(metrics)\n",
    "    \n",
    "    # for metric_name, score_value in scores.items():\n",
    "    #     if metric_name == 'fit_time' or metric_name == 'score_time':\n",
    "    #         continue\n",
    "    #     else:\n",
    "    #         mlflow.log_metric(metric_name, score_value.mean())\n",
    "            \n",
    "    return scores['train_accuracy'].mean()"
   ]
  },
  {
   "cell_type": "code",
   "execution_count": 2,
   "metadata": {},
   "outputs": [],
   "source": [
    "def tune_AdaBoostClassifier(n_trials, X_train, y_train):\n",
    "    experiment_name = 'AdaBoostClassifier-hpo'\n",
    "    mlflow.set_tracking_uri('http://127.0.0.1:8081')\n",
    "    mlflow.set_experiment(experiment_name)\n",
    "\n",
    "    study = optuna.create_study(direction='maximize')  # 'maximize'일 경우 정확도 같은 지표를 최대화\n",
    "    study.optimize(lambda trial: objective(trial, X_train, y_train), n_trials=n_trials)\n",
    "    best_params = study.best_params  \n",
    "    # best_model_value = study.best_value\n",
    "\n",
    "    run_name = 'best-model-AdaBoostClassifier'\n",
    "    with mlflow.start_run(run_name=run_name):\n",
    "        mlflow.log_params(best_params)\n",
    "        model_instance = AdaBoostClassifier(**best_params)\n",
    "        scores = cross_validate(model_instance, X, y, cv=5, n_jobs=-1, return_train_score=True, scoring=['f1_weighted', 'accuracy', 'recall', 'precision'])\n",
    "    \n",
    "        train_f1_score = scores['train_f1_weighted'].mean()\n",
    "        test_f1_score = scores['test_f1_weighted'].mean()\n",
    "\n",
    "        train_accuracy_score = scores['train_accuracy'].mean()\n",
    "        test_accuracy_score = scores['test_accuracy'].mean()\n",
    "\n",
    "        train_recall_score = scores['train_recall'].mean()\n",
    "        test_recall_score = scores['test_recall'].mean()\n",
    "\n",
    "        train_precision_score = scores['train_precision'].mean()\n",
    "        test_precision_score = scores['test_precision'].mean()\n",
    "\n",
    "        metrics = {'train_f1_score': train_f1_score, 'test_f1_score': test_f1_score,\n",
    "                'train_accuracy_score': train_accuracy_score, 'test_accuracy_score': test_accuracy_score,\n",
    "                'train_recall_score': train_recall_score, 'test_recall_score': test_recall_score,\n",
    "                'train_precision_score': train_precision_score, 'test_precision_score': test_precision_score}\n",
    "        mlflow.log_metrics(metrics)"
   ]
  },
  {
   "cell_type": "code",
   "execution_count": 3,
   "metadata": {},
   "outputs": [
    {
     "name": "stderr",
     "output_type": "stream",
     "text": [
      "2023/11/24 00:31:40 INFO mlflow.tracking.fluent: Experiment with name 'AdaBoostClassifier-hpo' does not exist. Creating a new experiment.\n",
      "[I 2023-11-24 00:31:40,322] A new study created in memory with name: no-name-45ed08f6-601f-4b4a-af89-3054384087d3\n",
      "[I 2023-11-24 00:31:44,452] Trial 0 finished with value: 0.9333333333333333 and parameters: {'n_estimators': 89, 'learning_rate': 0.162932517882371}. Best is trial 0 with value: 0.9333333333333333.\n"
     ]
    }
   ],
   "source": [
    "tune_AdaBoostClassifier(5, X, y)"
   ]
  },
  {
   "cell_type": "code",
   "execution_count": 1,
   "metadata": {},
   "outputs": [],
   "source": [
    "from sklearn.datasets import load_iris\n",
    "data = load_iris()\n",
    "X = data.data\n",
    "y = data.target"
   ]
  },
  {
   "cell_type": "code",
   "execution_count": 2,
   "metadata": {},
   "outputs": [
    {
     "name": "stderr",
     "output_type": "stream",
     "text": [
      "c:\\Users\\jw160\\OneDrive\\test\\bento2\\.venv_bento2\\Lib\\site-packages\\tqdm\\auto.py:21: TqdmWarning: IProgress not found. Please update jupyter and ipywidgets. See https://ipywidgets.readthedocs.io/en/stable/user_install.html\n",
      "  from .autonotebook import tqdm as notebook_tqdm\n",
      "c:\\Users\\jw160\\OneDrive\\test\\bento2\\.venv_bento2\\Lib\\site-packages\\pydantic\\_internal\\_fields.py:128: UserWarning: Field \"model_server_url\" has conflict with protected namespace \"model_\".\n",
      "\n",
      "You may be able to resolve this warning by setting `model_config['protected_namespaces'] = ()`.\n",
      "  warnings.warn(\n",
      "c:\\Users\\jw160\\OneDrive\\test\\bento2\\.venv_bento2\\Lib\\site-packages\\pydantic\\_internal\\_config.py:317: UserWarning: Valid config keys have changed in V2:\n",
      "* 'schema_extra' has been renamed to 'json_schema_extra'\n",
      "  warnings.warn(message, UserWarning)\n"
     ]
    }
   ],
   "source": [
    "import optuna, uuid, mlflow\n",
    "from sklearn.ensemble  import AdaBoostClassifier\n",
    "from sklearn.model_selection import cross_val_score, cross_validate\n",
    "import mlflow\n",
    "from sklearn.model_selection import cross_validate\n",
    "\n",
    "def clf_cross_score(model_instance, X, y, k):\n",
    "    cv_results = cross_validate(model_instance, X, y, cv=k, \n",
    "                                scoring=['f1_weighted', 'accuracy', 'recall', 'precision'], \n",
    "                                n_jobs=-1,\n",
    "                                return_train_score=True)\n",
    "\n",
    "    train_f1_score = cv_results['train_f1_weighted'].mean()\n",
    "    test_f1_score = cv_results['test_f1_weighted'].mean()\n",
    "\n",
    "    train_accuracy_score = cv_results['train_accuracy'].mean()\n",
    "    test_accuracy_score = cv_results['test_accuracy'].mean()\n",
    "\n",
    "    train_recall_score = cv_results['train_recall'].mean()\n",
    "    test_recall_score = cv_results['test_recall'].mean()\n",
    "\n",
    "    train_precision_score = cv_results['train_precision'].mean()\n",
    "    test_precision_score = cv_results['test_precision'].mean()\n",
    "\n",
    "    metrics = {'train_f1_score': train_f1_score, 'test_f1_score': test_f1_score,\n",
    "            'train_accuracy_score': train_accuracy_score, 'test_accuracy_score': test_accuracy_score,\n",
    "            'train_recall_score': train_recall_score, 'test_recall_score': test_recall_score,\n",
    "            'train_precision_score': train_precision_score, 'test_precision_score': test_precision_score}\n",
    "    mlflow.log_metrics(metrics)\n",
    "\n",
    "    return train_f1_score\n",
    "\n",
    "\n",
    "UNIQUE_PREFIX = str(uuid.uuid4())[:8]\n",
    "\n",
    "def objective_AdaBoostClassifier(trial, X_train, y_train):    \n",
    "    # 모델 생성\n",
    "    params = {\n",
    "            'n_estimators': trial.suggest_int('n_estimators', 50, 500),\n",
    "            'learning_rate': trial.suggest_float('learning_rate', 0.1, 1.0),\n",
    "            'random_state': trial.suggest_int('random_state', 42, 123),\n",
    "            }\n",
    "    \n",
    "    run_name = f\"{UNIQUE_PREFIX}AdaBoostClassifier-{trial.number}\"\n",
    "    with mlflow.start_run(run_name=run_name):\n",
    "        mlflow.log_params(params)\n",
    "        model_instance = AdaBoostClassifier(**params)\n",
    "        \n",
    "        score = clf_cross_score(model_instance, X_train, y_train, 5)\n",
    "\n",
    "    return score\n",
    "\n",
    "def tune_AdaBoostClassifier(n_trials, X_train, y_train):\n",
    "    experiment_name = 'AdaBoostClassifier-hpo'\n",
    "    mlflow.set_tracking_uri('http://127.0.0.1:8081')\n",
    "    mlflow.set_experiment(experiment_name)\n",
    "\n",
    "    study = optuna.create_study(direction='maximize')  # 'maximize'일 경우 정확도 같은 지표를 최대화\n",
    "    study.optimize(lambda trial: objective_AdaBoostClassifier(trial, X_train, y_train), n_trials=n_trials)\n",
    "    best_params = study.best_params  \n",
    "    # best_model_value = study.best_value\n",
    "\n",
    "    run_name = 'best-model-AdaBoostClassifier'\n",
    "    with mlflow.start_run(run_name=run_name):\n",
    "        mlflow.log_params(best_params)\n",
    "        model_instance = AdaBoostClassifier(**best_params)\n",
    "        clf_cross_score(model_instance, X_train, y_train, 5)"
   ]
  },
  {
   "cell_type": "code",
   "execution_count": 3,
   "metadata": {},
   "outputs": [
    {
     "name": "stderr",
     "output_type": "stream",
     "text": [
      "[I 2023-11-24 00:33:11,373] A new study created in memory with name: no-name-3a499426-844e-4b45-8070-8d245dd46ec3\n",
      "[I 2023-11-24 00:33:15,470] Trial 0 finished with value: 0.9360150028014346 and parameters: {'n_estimators': 197, 'learning_rate': 0.5353147776597884, 'random_state': 79}. Best is trial 0 with value: 0.9360150028014346.\n",
      "[I 2023-11-24 00:33:17,668] Trial 1 finished with value: 0.9308923681911152 and parameters: {'n_estimators': 424, 'learning_rate': 0.6203825089634724, 'random_state': 105}. Best is trial 0 with value: 0.9360150028014346.\n",
      "[I 2023-11-24 00:33:18,277] Trial 2 finished with value: 0.9497369407939417 and parameters: {'n_estimators': 200, 'learning_rate': 0.8761497114604095, 'random_state': 114}. Best is trial 2 with value: 0.9497369407939417.\n",
      "[I 2023-11-24 00:33:19,560] Trial 3 finished with value: 0.9565317210435795 and parameters: {'n_estimators': 459, 'learning_rate': 0.985935147894125, 'random_state': 118}. Best is trial 3 with value: 0.9565317210435795.\n",
      "[I 2023-11-24 00:33:21,285] Trial 4 finished with value: 0.949747454326201 and parameters: {'n_estimators': 446, 'learning_rate': 0.699157751407222, 'random_state': 93}. Best is trial 3 with value: 0.9565317210435795.\n"
     ]
    }
   ],
   "source": [
    "tune_AdaBoostClassifier(5, X, y)"
   ]
  },
  {
   "cell_type": "code",
   "execution_count": null,
   "metadata": {},
   "outputs": [],
   "source": []
  }
 ],
 "metadata": {
  "kernelspec": {
   "display_name": ".venv",
   "language": "python",
   "name": "python3"
  },
  "language_info": {
   "codemirror_mode": {
    "name": "ipython",
    "version": 3
   },
   "file_extension": ".py",
   "mimetype": "text/x-python",
   "name": "python",
   "nbconvert_exporter": "python",
   "pygments_lexer": "ipython3",
   "version": "3.11.4"
  }
 },
 "nbformat": 4,
 "nbformat_minor": 2
}
