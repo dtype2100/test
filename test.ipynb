{
 "cells": [
  {
   "cell_type": "code",
   "execution_count": 4,
   "metadata": {},
   "outputs": [
    {
     "ename": "ModuleNotFoundError",
     "evalue": "No module named 'fcntl'",
     "output_type": "error",
     "traceback": [
      "\u001b[1;31m---------------------------------------------------------------------------\u001b[0m",
      "\u001b[1;31mModuleNotFoundError\u001b[0m                       Traceback (most recent call last)",
      "\u001b[1;32mc:\\Users\\jw160\\OneDrive\\test\\test.ipynb Cell 1\u001b[0m line \u001b[0;36m5\n\u001b[0;32m      <a href='vscode-notebook-cell:/c%3A/Users/jw160/OneDrive/test/test.ipynb#W2sZmlsZQ%3D%3D?line=0'>1</a>\u001b[0m \u001b[39mfrom\u001b[39;00m \u001b[39mdatetime\u001b[39;00m \u001b[39mimport\u001b[39;00m timedelta\n\u001b[0;32m      <a href='vscode-notebook-cell:/c%3A/Users/jw160/OneDrive/test/test.ipynb#W2sZmlsZQ%3D%3D?line=2'>3</a>\u001b[0m \u001b[39mimport\u001b[39;00m \u001b[39mpandas\u001b[39;00m \u001b[39mas\u001b[39;00m \u001b[39mpd\u001b[39;00m\n\u001b[1;32m----> <a href='vscode-notebook-cell:/c%3A/Users/jw160/OneDrive/test/test.ipynb#W2sZmlsZQ%3D%3D?line=4'>5</a>\u001b[0m \u001b[39mfrom\u001b[39;00m \u001b[39mfeast\u001b[39;00m \u001b[39mimport\u001b[39;00m (\n\u001b[0;32m      <a href='vscode-notebook-cell:/c%3A/Users/jw160/OneDrive/test/test.ipynb#W2sZmlsZQ%3D%3D?line=5'>6</a>\u001b[0m     Entity,\n\u001b[0;32m      <a href='vscode-notebook-cell:/c%3A/Users/jw160/OneDrive/test/test.ipynb#W2sZmlsZQ%3D%3D?line=6'>7</a>\u001b[0m     FeatureService,\n\u001b[0;32m      <a href='vscode-notebook-cell:/c%3A/Users/jw160/OneDrive/test/test.ipynb#W2sZmlsZQ%3D%3D?line=7'>8</a>\u001b[0m     FeatureView,\n\u001b[0;32m      <a href='vscode-notebook-cell:/c%3A/Users/jw160/OneDrive/test/test.ipynb#W2sZmlsZQ%3D%3D?line=8'>9</a>\u001b[0m     Field,\n\u001b[0;32m     <a href='vscode-notebook-cell:/c%3A/Users/jw160/OneDrive/test/test.ipynb#W2sZmlsZQ%3D%3D?line=9'>10</a>\u001b[0m     FileSource,\n\u001b[0;32m     <a href='vscode-notebook-cell:/c%3A/Users/jw160/OneDrive/test/test.ipynb#W2sZmlsZQ%3D%3D?line=10'>11</a>\u001b[0m     PushSource,\n\u001b[0;32m     <a href='vscode-notebook-cell:/c%3A/Users/jw160/OneDrive/test/test.ipynb#W2sZmlsZQ%3D%3D?line=11'>12</a>\u001b[0m     RequestSource,\n\u001b[0;32m     <a href='vscode-notebook-cell:/c%3A/Users/jw160/OneDrive/test/test.ipynb#W2sZmlsZQ%3D%3D?line=12'>13</a>\u001b[0m )\n",
      "File \u001b[1;32mc:\\Users\\jw160\\AppData\\Local\\anaconda3\\envs\\pro1\\Lib\\site-packages\\feast\\__init__.py:20\u001b[0m\n\u001b[0;32m     18\u001b[0m \u001b[39mfrom\u001b[39;00m \u001b[39m.\u001b[39;00m\u001b[39mfeature\u001b[39;00m \u001b[39mimport\u001b[39;00m Feature\n\u001b[0;32m     19\u001b[0m \u001b[39mfrom\u001b[39;00m \u001b[39m.\u001b[39;00m\u001b[39mfeature_service\u001b[39;00m \u001b[39mimport\u001b[39;00m FeatureService\n\u001b[1;32m---> 20\u001b[0m \u001b[39mfrom\u001b[39;00m \u001b[39m.\u001b[39;00m\u001b[39mfeature_store\u001b[39;00m \u001b[39mimport\u001b[39;00m FeatureStore\n\u001b[0;32m     21\u001b[0m \u001b[39mfrom\u001b[39;00m \u001b[39m.\u001b[39;00m\u001b[39mfeature_view\u001b[39;00m \u001b[39mimport\u001b[39;00m FeatureView\n\u001b[0;32m     22\u001b[0m \u001b[39mfrom\u001b[39;00m \u001b[39m.\u001b[39;00m\u001b[39mfield\u001b[39;00m \u001b[39mimport\u001b[39;00m Field\n",
      "File \u001b[1;32mc:\\Users\\jw160\\AppData\\Local\\anaconda3\\envs\\pro1\\Lib\\site-packages\\feast\\feature_store.py:42\u001b[0m\n\u001b[0;32m     39\u001b[0m \u001b[39mfrom\u001b[39;00m \u001b[39mgoogle\u001b[39;00m\u001b[39m.\u001b[39;00m\u001b[39mprotobuf\u001b[39;00m\u001b[39m.\u001b[39;00m\u001b[39mtimestamp_pb2\u001b[39;00m \u001b[39mimport\u001b[39;00m Timestamp\n\u001b[0;32m     40\u001b[0m \u001b[39mfrom\u001b[39;00m \u001b[39mtqdm\u001b[39;00m \u001b[39mimport\u001b[39;00m tqdm\n\u001b[1;32m---> 42\u001b[0m \u001b[39mfrom\u001b[39;00m \u001b[39mfeast\u001b[39;00m \u001b[39mimport\u001b[39;00m feature_server, flags_helper, ui_server, utils\n\u001b[0;32m     43\u001b[0m \u001b[39mfrom\u001b[39;00m \u001b[39mfeast\u001b[39;00m\u001b[39m.\u001b[39;00m\u001b[39mbase_feature_view\u001b[39;00m \u001b[39mimport\u001b[39;00m BaseFeatureView\n\u001b[0;32m     44\u001b[0m \u001b[39mfrom\u001b[39;00m \u001b[39mfeast\u001b[39;00m\u001b[39m.\u001b[39;00m\u001b[39mbatch_feature_view\u001b[39;00m \u001b[39mimport\u001b[39;00m BatchFeatureView\n",
      "File \u001b[1;32mc:\\Users\\jw160\\AppData\\Local\\anaconda3\\envs\\pro1\\Lib\\site-packages\\feast\\feature_server.py:5\u001b[0m\n\u001b[0;32m      2\u001b[0m \u001b[39mimport\u001b[39;00m \u001b[39mtraceback\u001b[39;00m\n\u001b[0;32m      3\u001b[0m \u001b[39mimport\u001b[39;00m \u001b[39mwarnings\u001b[39;00m\n\u001b[1;32m----> 5\u001b[0m \u001b[39mimport\u001b[39;00m \u001b[39mgunicorn\u001b[39;00m\u001b[39m.\u001b[39;00m\u001b[39mapp\u001b[39;00m\u001b[39m.\u001b[39;00m\u001b[39mbase\u001b[39;00m\n\u001b[0;32m      6\u001b[0m \u001b[39mimport\u001b[39;00m \u001b[39mpandas\u001b[39;00m \u001b[39mas\u001b[39;00m \u001b[39mpd\u001b[39;00m\n\u001b[0;32m      7\u001b[0m \u001b[39mfrom\u001b[39;00m \u001b[39mfastapi\u001b[39;00m \u001b[39mimport\u001b[39;00m FastAPI, HTTPException, Request, Response, status\n",
      "File \u001b[1;32mc:\\Users\\jw160\\AppData\\Local\\anaconda3\\envs\\pro1\\Lib\\site-packages\\gunicorn\\app\\base.py:11\u001b[0m\n\u001b[0;32m      8\u001b[0m \u001b[39mimport\u001b[39;00m \u001b[39msys\u001b[39;00m\n\u001b[0;32m      9\u001b[0m \u001b[39mimport\u001b[39;00m \u001b[39mtraceback\u001b[39;00m\n\u001b[1;32m---> 11\u001b[0m \u001b[39mfrom\u001b[39;00m \u001b[39mgunicorn\u001b[39;00m \u001b[39mimport\u001b[39;00m util\n\u001b[0;32m     12\u001b[0m \u001b[39mfrom\u001b[39;00m \u001b[39mgunicorn\u001b[39;00m\u001b[39m.\u001b[39;00m\u001b[39marbiter\u001b[39;00m \u001b[39mimport\u001b[39;00m Arbiter\n\u001b[0;32m     13\u001b[0m \u001b[39mfrom\u001b[39;00m \u001b[39mgunicorn\u001b[39;00m\u001b[39m.\u001b[39;00m\u001b[39mconfig\u001b[39;00m \u001b[39mimport\u001b[39;00m Config, get_default_config_file\n",
      "File \u001b[1;32mc:\\Users\\jw160\\AppData\\Local\\anaconda3\\envs\\pro1\\Lib\\site-packages\\gunicorn\\util.py:8\u001b[0m\n\u001b[0;32m      6\u001b[0m \u001b[39mimport\u001b[39;00m \u001b[39memail\u001b[39;00m\u001b[39m.\u001b[39;00m\u001b[39mutils\u001b[39;00m\n\u001b[0;32m      7\u001b[0m \u001b[39mimport\u001b[39;00m \u001b[39merrno\u001b[39;00m\n\u001b[1;32m----> 8\u001b[0m \u001b[39mimport\u001b[39;00m \u001b[39mfcntl\u001b[39;00m\n\u001b[0;32m      9\u001b[0m \u001b[39mimport\u001b[39;00m \u001b[39mhtml\u001b[39;00m\n\u001b[0;32m     10\u001b[0m \u001b[39mimport\u001b[39;00m \u001b[39mimportlib\u001b[39;00m\n",
      "\u001b[1;31mModuleNotFoundError\u001b[0m: No module named 'fcntl'"
     ]
    }
   ],
   "source": [
    "from datetime import timedelta\n",
    "\n",
    "import pandas as pd\n",
    "\n",
    "from feast import (\n",
    "    Entity,\n",
    "    FeatureService,\n",
    "    FeatureView,\n",
    "    Field,\n",
    "    FileSource,\n",
    "    PushSource,\n",
    "    RequestSource,\n",
    ")"
   ]
  },
  {
   "cell_type": "code",
   "execution_count": null,
   "metadata": {},
   "outputs": [],
   "source": []
  }
 ],
 "metadata": {
  "kernelspec": {
   "display_name": "pro1",
   "language": "python",
   "name": "python3"
  },
  "language_info": {
   "codemirror_mode": {
    "name": "ipython",
    "version": 3
   },
   "file_extension": ".py",
   "mimetype": "text/x-python",
   "name": "python",
   "nbconvert_exporter": "python",
   "pygments_lexer": "ipython3",
   "version": "3.11.4"
  }
 },
 "nbformat": 4,
 "nbformat_minor": 2
}
