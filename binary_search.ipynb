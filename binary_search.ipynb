{
 "cells": [
  {
   "cell_type": "code",
   "execution_count": 60,
   "metadata": {},
   "outputs": [
    {
     "data": {
      "text/plain": [
       "7"
      ]
     },
     "execution_count": 60,
     "metadata": {},
     "output_type": "execute_result"
    }
   ],
   "source": [
    "arr = [1, 2, 3, 4, 5, 6, 7, 8, 9, 10]\n",
    "target_number = 8\n",
    "\n",
    "def binary_search(arr, target_number):\n",
    "    '''\n",
    "    mid_index가 target과 같으면 mid_index return\n",
    "    mid_index가 target보다 크면, end_index에 -1\n",
    "    mid_index가 target보다 작으면, start_index에 +1\n",
    "    '''\n",
    "    start_index = 0\n",
    "    end_index = len(arr) - 1\n",
    "    while start_index <= end_index:\n",
    "        mid_index = (start_index + end_index) // 2\n",
    "        if arr[mid_index] == target_number: \n",
    "            return mid_index\n",
    "        elif arr[mid_index] > target_number:\n",
    "            end_index = mid_index - 1\n",
    "        else:\n",
    "            start_index = mid_index + 1\n",
    "binary_search(arr, target_number)"
   ]
  }
 ],
 "metadata": {
  "kernelspec": {
   "display_name": "pro1",
   "language": "python",
   "name": "python3"
  },
  "language_info": {
   "codemirror_mode": {
    "name": "ipython",
    "version": 3
   },
   "file_extension": ".py",
   "mimetype": "text/x-python",
   "name": "python",
   "nbconvert_exporter": "python",
   "pygments_lexer": "ipython3",
   "version": "3.9.7"
  },
  "orig_nbformat": 4
 },
 "nbformat": 4,
 "nbformat_minor": 2
}
