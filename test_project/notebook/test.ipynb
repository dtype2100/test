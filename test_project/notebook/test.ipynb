{
 "cells": [
  {
   "cell_type": "code",
   "execution_count": 3,
   "metadata": {},
   "outputs": [
    {
     "name": "stderr",
     "output_type": "stream",
     "text": [
      "[I 2023-11-24 00:28:17,489] A new study created in memory with name: ada-hpo\n"
     ]
    }
   ],
   "source": [
    "import bentoml, mlflow, optuna, uuid\n",
    "from sklearn.model_selection import train_test_split, cross_validate\n",
    "from sklearn.ensemble import AdaBoostClassifier\n",
    "from sklearn.metrics import accuracy_score, precision_score, recall_score, f1_score\n",
    "from sklearn.datasets import load_iris\n",
    "data = load_iris()\n",
    "X = data.data\n",
    "y = data.target\n",
    "UNIQUE_PREFIX = str(uuid.uuid4())[:8]\n",
    "def objective(trial, X, y):\n",
    "    param = {\n",
    "        'n_estimators': trial.suggest_int('n_estimators', 10, 100),\n",
    "        'learning_rate': trial.suggest_float('learning_rate', 0.01, 1.0),\n",
    "    }\n",
    "    mlflow.log_params(param)\n",
    "    model = AdaBoostClassifier(**param)\n",
    "    scores = cross_validate(model, X, y, cv=5, n_jobs=-1, return_train_score=True, scoring=['f1_weighted', 'accuracy', 'recall', 'precision'])\n",
    "\n",
    "    # mlflow.log_metrics('scores', scores)\n",
    "    # mlflow.log_metric('train_accuracy', scores['train_accuracy'].mean())\n",
    "\n",
    "    # mlflow.log_metric('test_accuracy', scores['test_accuracy'].mean())\n",
    "    # mlflow.log_metric('test_recall', scores['test_recall'].mean())\n",
    "    # mlflow.log_metric('test_precision', scores['test_precision'].mean())\n",
    "    # mlflow.log_metric('test_f1_weighted', scores['test_f1_weighted'].mean())\n",
    "    \n",
    "    train_f1_score = scores['train_f1_weighted'].mean()\n",
    "    test_f1_score = scores['test_f1_weighted'].mean()\n",
    "\n",
    "    train_accuracy_score = scores['train_accuracy'].mean()\n",
    "    test_accuracy_score = scores['test_accuracy'].mean()\n",
    "\n",
    "    train_recall_score = scores['train_recall'].mean()\n",
    "    test_recall_score = scores['test_recall'].mean()\n",
    "\n",
    "    train_precision_score = scores['train_precision'].mean()\n",
    "    test_precision_score = scores['test_precision'].mean()\n",
    "\n",
    "    metrics = {'train_f1_score': train_f1_score, 'test_f1_score': test_f1_score,\n",
    "            'train_accuracy_score': train_accuracy_score, 'test_accuracy_score': test_accuracy_score,\n",
    "            'train_recall_score': train_recall_score, 'test_recall_score': test_recall_score,\n",
    "            'train_precision_score': train_precision_score, 'test_precision_score': test_precision_score}\n",
    "    mlflow.log_metrics(metrics)\n",
    "    \n",
    "    # for metric_name, score_value in scores.items():\n",
    "    #     if metric_name == 'fit_time' or metric_name == 'score_time':\n",
    "    #         continue\n",
    "    #     else:\n",
    "    #         mlflow.log_metric(metric_name, score_value.mean())\n",
    "            \n",
    "    return scores['train_accuracy'].mean()\n",
    "mlflow.set_tracking_uri('http://127.0.0.1:8081')\n",
    "study = optuna.create_study(study_name='ada-hpo', direction='maximize', load_if_exists=True)\n",
    "study.optimize(lambda trial: objective(trial, X, y), n_trials=5)\n",
    "best_param = study.best_params"
   ]
  },
  {
   "cell_type": "code",
   "execution_count": null,
   "metadata": {},
   "outputs": [],
   "source": []
  },
  {
   "cell_type": "code",
   "execution_count": null,
   "metadata": {},
   "outputs": [],
   "source": []
  }
 ],
 "metadata": {
  "kernelspec": {
   "display_name": ".venv",
   "language": "python",
   "name": "python3"
  },
  "language_info": {
   "codemirror_mode": {
    "name": "ipython",
    "version": 3
   },
   "file_extension": ".py",
   "mimetype": "text/x-python",
   "name": "python",
   "nbconvert_exporter": "python",
   "pygments_lexer": "ipython3",
   "version": "3.11.4"
  }
 },
 "nbformat": 4,
 "nbformat_minor": 2
}
