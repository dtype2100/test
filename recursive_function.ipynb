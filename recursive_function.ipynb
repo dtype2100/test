{
 "cells": [
  {
   "cell_type": "code",
   "execution_count": 2,
   "metadata": {},
   "outputs": [
    {
     "name": "stdout",
     "output_type": "stream",
     "text": [
      "5\n",
      "4\n",
      "3\n",
      "2\n",
      "1\n"
     ]
    }
   ],
   "source": [
    "def countdown(n):\n",
    "    '''\n",
    "    recursive function\n",
    "    '''\n",
    "    if n > 0:\n",
    "        print(n)\n",
    "        countdown(n - 1)\n",
    "countdown(5)"
   ]
  },
  {
   "cell_type": "code",
   "execution_count": 8,
   "metadata": {},
   "outputs": [
    {
     "name": "stdout",
     "output_type": "stream",
     "text": [
      "5\n",
      "4\n",
      "3\n",
      "2\n",
      "1\n",
      "None\n"
     ]
    }
   ],
   "source": [
    "def countdown(n):\n",
    "    i = n\n",
    "    while i > 0:\n",
    "        print(i)\n",
    "        i -= 1\n",
    "print(countdown(5))"
   ]
  },
  {
   "cell_type": "code",
   "execution_count": 14,
   "metadata": {},
   "outputs": [
    {
     "data": {
      "text/plain": [
       "120"
      ]
     },
     "execution_count": 14,
     "metadata": {},
     "output_type": "execute_result"
    }
   ],
   "source": [
    "def factorial(n):\n",
    "    '''\n",
    "    3! = 1 * 2 * 3 (factorial)\n",
    "    3! = 6\n",
    "    5! = 1 * 2 * 3 * 4 * 5 (factorial)\n",
    "    5! = 120\n",
    "    재귀 문제의 핵심은 하위 문제.\n",
    "    5!를 구하기 위해 4! * 5 를 해도 가능. 즉, 4!를 구하면 5!를 수할 수 있기 때문에, 4!은 5! 하위 문제.\n",
    "    큰 문제를 작은 문제에서 쪼개나가는 것이 재귀 문제의 핵심.\n",
    "    1! 처럼 바로 알 수 있는 문제를 베이스케이스(Base Case) | if n > 1\n",
    "    2!이상은 재귀 케이스(Recursive Case) if n == 1\n",
    "    '''\n",
    "    if n == 1:\n",
    "        return 1\n",
    "    else:\n",
    "        return factorial(n - 1) * n\n",
    "factorial(5)"
   ]
  },
  {
   "cell_type": "markdown",
   "metadata": {},
   "source": [
    "* 재귀문제 접근 방법\n",
    "1. 하위문제 찾기\n",
    "2. 베이스 케이스 정하기\n",
    "3. 재귀 케이스 정하기"
   ]
  },
  {
   "cell_type": "code",
   "execution_count": 5,
   "metadata": {},
   "outputs": [
    {
     "name": "stdout",
     "output_type": "stream",
     "text": [
      "[5, 4, 3, 2, 1]\n"
     ]
    }
   ],
   "source": [
    "def reverse(my_list):\n",
    "    if len(my_list) <= 1: # Base Case\n",
    "        return my_list\n",
    "    return my_list[-1:] + reverse(my_list[:-1]) # Recursive Case\n",
    "print(reverse([1,2,3,4,5]))"
   ]
  },
  {
   "cell_type": "code",
   "execution_count": null,
   "metadata": {},
   "outputs": [],
   "source": []
  }
 ],
 "metadata": {
  "kernelspec": {
   "display_name": "pro1",
   "language": "python",
   "name": "python3"
  },
  "language_info": {
   "codemirror_mode": {
    "name": "ipython",
    "version": 3
   },
   "file_extension": ".py",
   "mimetype": "text/x-python",
   "name": "python",
   "nbconvert_exporter": "python",
   "pygments_lexer": "ipython3",
   "version": "3.11.4"
  },
  "orig_nbformat": 4
 },
 "nbformat": 4,
 "nbformat_minor": 2
}
